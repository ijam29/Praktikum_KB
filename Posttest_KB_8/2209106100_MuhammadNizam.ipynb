{
  "nbformat": 4,
  "nbformat_minor": 0,
  "metadata": {
    "colab": {
      "provenance": []
    },
    "kernelspec": {
      "name": "python3",
      "display_name": "Python 3"
    },
    "language_info": {
      "name": "python"
    }
  },
  "cells": [
    {
      "cell_type": "code",
      "execution_count": 32,
      "metadata": {
        "id": "lP5uHfu0QVDY"
      },
      "outputs": [],
      "source": [
        "import pandas as pd\n",
        "from sklearn.model_selection import train_test_split\n",
        "from sklearn.preprocessing import LabelEncoder, StandardScaler\n",
        "from tensorflow.keras.models import Sequential\n",
        "from tensorflow.keras.layers import Dense, Dropout\n",
        "from tensorflow.keras.optimizers import Adam\n",
        "from tensorflow.keras.callbacks import EarlyStopping\n",
        "from tensorflow.keras.optimizers import RMSprop\n",
        "from tensorflow.keras.layers import LeakyReLU\n",
        "from imblearn.over_sampling import SMOTE\n",
        "from tensorflow.keras.utils import to_categorical\n",
        "from tensorflow.keras.regularizers import l2\n",
        "from tensorflow.keras.optimizers import SGD\n",
        "from sklearn.feature_selection import SelectKBest, f_classif"
      ]
    },
    {
      "cell_type": "markdown",
      "source": [],
      "metadata": {
        "id": "k2zKsYIiKlGi"
      }
    },
    {
      "cell_type": "code",
      "source": [
        "df = pd.read_csv('/content/StudentPerformanceFactors.csv')"
      ],
      "metadata": {
        "id": "A4PiLdVsRA7s"
      },
      "execution_count": 33,
      "outputs": []
    },
    {
      "cell_type": "markdown",
      "source": [
        "## Kode tersebut menyandikan (encode) kolom-kolom kategori dalam dataframe menggunakan LabelEncoder, sehingga nilai kategori diubah menjadi angka numerik untuk keperluan pemrosesan oleh model machine learning."
      ],
      "metadata": {
        "id": "oovDKe-WLKVY"
      }
    },
    {
      "cell_type": "code",
      "source": [
        "# Preprocessing\n",
        "# Menyandikan (encode) kolom-kolom kategori\n",
        "kolom_kategori = ['Parental_Involvement', 'Access_to_Resources', 'Extracurricular_Activities',\n",
        "                  'Motivation_Level', 'Internet_Access', 'Family_Income', 'Teacher_Quality',\n",
        "                  'School_Type', 'Peer_Influence', 'Learning_Disabilities',\n",
        "                  'Parental_Education_Level', 'Distance_from_Home', 'Gender']\n",
        "\n",
        "label_encoders = {}\n",
        "for kolom in kolom_kategori:\n",
        "    label_encoders[kolom] = LabelEncoder()\n",
        "    df[kolom] = label_encoders[kolom].fit_transform(df[kolom].astype(str))"
      ],
      "metadata": {
        "id": "gxjHS_FbQmBy"
      },
      "execution_count": 34,
      "outputs": []
    },
    {
      "cell_type": "markdown",
      "source": [
        "## Kode tersebut menggunakan SelectKBest untuk memilih 10 fitur terbaik dari dataset berdasarkan uji statistik ANOVA (f_classif), yang mengevaluasi hubungan antara setiap fitur dan target. Dengan fit_transform, fitur-fitur yang paling berpengaruh terhadap variabel target (y) dipilih dan diubah menjadi subset baru X_new. Teknik ini membantu meningkatkan kinerja model dengan hanya mempertahankan fitur yang paling relevan, mengurangi dimensi, dan menghindari overfitting dari fitur yang kurang berkontribusi."
      ],
      "metadata": {
        "id": "9pswuAmQLX2a"
      }
    },
    {
      "cell_type": "code",
      "source": [
        "# Memilih fitur terbaik menggunakan SelectKBest\n",
        "selector = SelectKBest(score_func=f_classif, k=10)  # Memilih 10 fitur terbaik\n",
        "X_new = selector.fit_transform(X, y)"
      ],
      "metadata": {
        "id": "TPbRODyzI0L9"
      },
      "execution_count": 35,
      "outputs": []
    },
    {
      "cell_type": "markdown",
      "source": [
        "## Kode tersebut menangani nilai kosong (missing values) dalam dataframe df dengan cara mengisi nilai kosong di setiap kolom menggunakan modus (nilai yang paling sering muncul) dari kolom tersebut. df.mode().iloc[0] menghitung modus untuk setiap kolom, lalu fillna() mengisi nilai kosong dengan nilai tersebut secara langsung di dataframe (inplace=True). Pendekatan ini memastikan tidak ada nilai kosong dalam dataset sebelum digunakan dalam model."
      ],
      "metadata": {
        "id": "2n47zG34LfHU"
      }
    },
    {
      "cell_type": "code",
      "source": [
        "# Menangani nilai kosong (missing values)\n",
        "df.fillna(df.mode().iloc[0], inplace=True)"
      ],
      "metadata": {
        "id": "9ZqQYAkPQxwm"
      },
      "execution_count": 36,
      "outputs": []
    },
    {
      "cell_type": "markdown",
      "source": [
        "## Kode tersebut memisahkan fitur (X) dan target (y) dalam dataset. X diisi dengan semua kolom kecuali kolom 'Motivation_Level' (yang merupakan target) menggunakan df.drop('Motivation_Level', axis=1), sedangkan y hanya diisi dengan kolom 'Motivation_Level' yang menjadi variabel target. Hal ini dilakukan untuk mempersiapkan data yang akan digunakan dalam pelatihan model, di mana X berisi input atau fitur dan y adalah label atau output yang akan diprediksi.\n",
        "\n",
        "\n",
        "\n",
        "\n",
        "\n",
        "\n"
      ],
      "metadata": {
        "id": "nyc5XnAwLxzm"
      }
    },
    {
      "cell_type": "code",
      "source": [
        "# Memisahkan fitur dan target\n",
        "X = df.drop('Motivation_Level', axis=1)\n",
        "y = df['Motivation_Level']"
      ],
      "metadata": {
        "id": "458Lm6OURJNQ"
      },
      "execution_count": 37,
      "outputs": []
    },
    {
      "cell_type": "code",
      "source": [
        "# Melakukan normalisasi pada fitur\n",
        "scaler = StandardScaler()\n",
        "X_scaled = scaler.fit_transform(X)"
      ],
      "metadata": {
        "id": "cWYoTpZPRLYQ"
      },
      "execution_count": 38,
      "outputs": []
    },
    {
      "cell_type": "code",
      "source": [
        "# Mengubah target menjadi one-hot encoding\n",
        "y_encoded = to_categorical(y)"
      ],
      "metadata": {
        "id": "UqHFV-NHRN7m"
      },
      "execution_count": 39,
      "outputs": []
    },
    {
      "cell_type": "code",
      "source": [
        "# Membagi dataset menjadi data training dan validasi\n",
        "X_train, X_val, y_train, y_val = train_test_split(X_scaled, y_encoded, test_size=0.2, random_state=42)"
      ],
      "metadata": {
        "id": "aGd2yIvIRQw_"
      },
      "execution_count": 40,
      "outputs": []
    },
    {
      "cell_type": "code",
      "source": [
        "# Membangun model Sequential\n",
        "model = Sequential()"
      ],
      "metadata": {
        "id": "V4rfrcKQRTR_"
      },
      "execution_count": 41,
      "outputs": []
    },
    {
      "cell_type": "code",
      "source": [],
      "metadata": {
        "id": "t7qee0F1jpoC"
      },
      "execution_count": 41,
      "outputs": []
    },
    {
      "cell_type": "code",
      "source": [
        "# Lapisan Input\n",
        "model.add(Dense(512, input_dim=X_train.shape[1], activation='relu'))\n",
        "model.add(Dropout(0.10))\n"
      ],
      "metadata": {
        "colab": {
          "base_uri": "https://localhost:8080/"
        },
        "id": "mzWV1F8oRVqT",
        "outputId": "45e87eb5-21b4-4f88-abcd-059dec15aadd"
      },
      "execution_count": 42,
      "outputs": [
        {
          "output_type": "stream",
          "name": "stderr",
          "text": [
            "/usr/local/lib/python3.10/dist-packages/keras/src/layers/core/dense.py:87: UserWarning: Do not pass an `input_shape`/`input_dim` argument to a layer. When using Sequential models, prefer using an `Input(shape)` object as the first layer in the model instead.\n",
            "  super().__init__(activity_regularizer=activity_regularizer, **kwargs)\n"
          ]
        }
      ]
    },
    {
      "cell_type": "code",
      "source": [
        "# Lapisan Input dengan Dropout dan Regularisasi\n",
        "model.add(Dense(512, input_dim=X_train.shape[1], kernel_regularizer=l2(0.001)))\n",
        "model.add(LeakyReLU(alpha=0.1))\n",
        "model.add(Dropout(0.5))  # Dropout lebih besar untuk mencegah overfitting\n",
        "\n",
        "# Lapisan Tersembunyi\n",
        "model.add(Dense(256, activation='relu'))\n",
        "model.add(Dropout(0.003))  # Dropout ditingkatkan menjadi 0.3\n",
        "\n",
        "# Lapisan Tersembunyi\n",
        "model.add(Dense(128, activation='relu'))\n",
        "model.add(Dropout(0.003))  # Dropout pada 0.3 untuk menjaga regulasi"
      ],
      "metadata": {
        "id": "FoWkF9syRXng"
      },
      "execution_count": 56,
      "outputs": []
    },
    {
      "cell_type": "code",
      "source": [
        "# Lapisan Output\n",
        "model.add(Dense(3, activation='softmax'))"
      ],
      "metadata": {
        "id": "Au2TSXAURaVH"
      },
      "execution_count": 57,
      "outputs": []
    },
    {
      "cell_type": "code",
      "source": [
        "# Optimizer dengan learning rate lebih kecil\n",
        "optimizer = SGD(learning_rate=0.0001, momentum=0.10)"
      ],
      "metadata": {
        "id": "1LSSm2S_Ttwb"
      },
      "execution_count": 58,
      "outputs": []
    },
    {
      "cell_type": "code",
      "source": [
        "optimizer = Adam(learning_rate=0.0001)"
      ],
      "metadata": {
        "id": "lecal3Mrg2Zv"
      },
      "execution_count": 59,
      "outputs": []
    },
    {
      "cell_type": "code",
      "source": [
        "model.compile(optimizer=optimizer, loss='categorical_crossentropy', metrics=['accuracy'])"
      ],
      "metadata": {
        "id": "z_6qubYcg6BD"
      },
      "execution_count": 60,
      "outputs": []
    },
    {
      "cell_type": "code",
      "source": [
        "# Kompilasi model\n",
        "model.compile(optimizer=optimizer, loss='categorical_crossentropy', metrics=['accuracy'])"
      ],
      "metadata": {
        "id": "H3hj63gdRc-2"
      },
      "execution_count": 61,
      "outputs": []
    },
    {
      "cell_type": "code",
      "source": [
        "# Early stopping dengan patience lebih rendah\n",
        "early_stopping = EarlyStopping(monitor='val_accuracy', patience=5, restore_best_weights=True)"
      ],
      "metadata": {
        "id": "P9oOHA_Lbo6P"
      },
      "execution_count": 62,
      "outputs": []
    },
    {
      "cell_type": "code",
      "source": [
        "# Melatih model\n",
        "history = model.fit(X_train, y_train, epochs=10, batch_size=128, validation_data=(X_val, y_val))"
      ],
      "metadata": {
        "colab": {
          "base_uri": "https://localhost:8080/"
        },
        "id": "4-TRqT3rRfEf",
        "outputId": "cba9a0a2-5e25-4a6a-96bc-5c6393ce4d49"
      },
      "execution_count": 65,
      "outputs": [
        {
          "output_type": "stream",
          "name": "stdout",
          "text": [
            "Epoch 1/10\n",
            "\u001b[1m42/42\u001b[0m \u001b[32m━━━━━━━━━━━━━━━━━━━━\u001b[0m\u001b[37m\u001b[0m \u001b[1m1s\u001b[0m 19ms/step - accuracy: 0.8373 - loss: 0.4765 - val_accuracy: 0.5431 - val_loss: 1.3273\n",
            "Epoch 2/10\n",
            "\u001b[1m42/42\u001b[0m \u001b[32m━━━━━━━━━━━━━━━━━━━━\u001b[0m\u001b[37m\u001b[0m \u001b[1m1s\u001b[0m 18ms/step - accuracy: 0.8341 - loss: 0.4787 - val_accuracy: 0.5356 - val_loss: 1.3424\n",
            "Epoch 3/10\n",
            "\u001b[1m42/42\u001b[0m \u001b[32m━━━━━━━━━━━━━━━━━━━━\u001b[0m\u001b[37m\u001b[0m \u001b[1m1s\u001b[0m 17ms/step - accuracy: 0.8521 - loss: 0.4519 - val_accuracy: 0.5431 - val_loss: 1.3374\n",
            "Epoch 4/10\n",
            "\u001b[1m42/42\u001b[0m \u001b[32m━━━━━━━━━━━━━━━━━━━━\u001b[0m\u001b[37m\u001b[0m \u001b[1m1s\u001b[0m 18ms/step - accuracy: 0.8476 - loss: 0.4642 - val_accuracy: 0.5356 - val_loss: 1.3193\n",
            "Epoch 5/10\n",
            "\u001b[1m42/42\u001b[0m \u001b[32m━━━━━━━━━━━━━━━━━━━━\u001b[0m\u001b[37m\u001b[0m \u001b[1m1s\u001b[0m 17ms/step - accuracy: 0.8453 - loss: 0.4557 - val_accuracy: 0.5356 - val_loss: 1.3558\n",
            "Epoch 6/10\n",
            "\u001b[1m42/42\u001b[0m \u001b[32m━━━━━━━━━━━━━━━━━━━━\u001b[0m\u001b[37m\u001b[0m \u001b[1m1s\u001b[0m 22ms/step - accuracy: 0.8435 - loss: 0.4697 - val_accuracy: 0.5287 - val_loss: 1.3485\n",
            "Epoch 7/10\n",
            "\u001b[1m42/42\u001b[0m \u001b[32m━━━━━━━━━━━━━━━━━━━━\u001b[0m\u001b[37m\u001b[0m \u001b[1m1s\u001b[0m 30ms/step - accuracy: 0.8513 - loss: 0.4548 - val_accuracy: 0.5310 - val_loss: 1.3447\n",
            "Epoch 8/10\n",
            "\u001b[1m42/42\u001b[0m \u001b[32m━━━━━━━━━━━━━━━━━━━━\u001b[0m\u001b[37m\u001b[0m \u001b[1m1s\u001b[0m 29ms/step - accuracy: 0.8466 - loss: 0.4647 - val_accuracy: 0.5408 - val_loss: 1.3294\n",
            "Epoch 9/10\n",
            "\u001b[1m42/42\u001b[0m \u001b[32m━━━━━━━━━━━━━━━━━━━━\u001b[0m\u001b[37m\u001b[0m \u001b[1m1s\u001b[0m 26ms/step - accuracy: 0.8613 - loss: 0.4390 - val_accuracy: 0.5363 - val_loss: 1.3616\n",
            "Epoch 10/10\n",
            "\u001b[1m42/42\u001b[0m \u001b[32m━━━━━━━━━━━━━━━━━━━━\u001b[0m\u001b[37m\u001b[0m \u001b[1m1s\u001b[0m 17ms/step - accuracy: 0.8486 - loss: 0.4540 - val_accuracy: 0.5408 - val_loss: 1.3394\n"
          ]
        }
      ]
    },
    {
      "cell_type": "code",
      "source": [
        "# Menampilkan hasil akurasi training dan validasi\n",
        "training_accuracy = history.history['accuracy'][-1] * 100\n",
        "validation_accuracy = history.history['val_accuracy'][-1] * 100\n",
        "print(f\"Akurasi Training: {training_accuracy:.2f}%\")\n",
        "print(f\"Akurasi Validasi: {validation_accuracy:.2f}%\")"
      ],
      "metadata": {
        "colab": {
          "base_uri": "https://localhost:8080/"
        },
        "id": "6p0N_P_eRhE4",
        "outputId": "0deb68fc-e1fe-4e52-d9a6-7f36f586ff66"
      },
      "execution_count": 66,
      "outputs": [
        {
          "output_type": "stream",
          "name": "stdout",
          "text": [
            "Akurasi Training: 84.45%\n",
            "Akurasi Validasi: 54.08%\n"
          ]
        }
      ]
    },
    {
      "cell_type": "code",
      "source": [],
      "metadata": {
        "id": "OlMNxXX8Ro8U"
      },
      "execution_count": 51,
      "outputs": []
    }
  ]
}